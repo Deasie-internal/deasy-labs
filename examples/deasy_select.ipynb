{
 "cells": [
  {
   "cell_type": "code",
   "execution_count": null,
   "metadata": {},
   "outputs": [],
   "source": [
    "!pip uninstall deasy-client -y\n",
    "!pip install deasy-client\n",
    "\n",
    "\n",
    "\n",
    "\n",
    "\n",
    "\n"
   ]
  },
  {
   "cell_type": "code",
   "execution_count": null,
   "metadata": {},
   "outputs": [],
   "source": [
    "import os\n",
    "\n",
    "from dotenv import load_dotenv\n",
    "\n",
    "from deasy_client import Deasy\n",
    "\n",
    "load_dotenv()"
   ]
  },
  {
   "cell_type": "markdown",
   "metadata": {},
   "source": [
    "### Deasy Meta-Filter Demo"
   ]
  },
  {
   "cell_type": "markdown",
   "metadata": {},
   "source": [
    "##### 1. Define tags you want to filter on and instantiate the Deasy Client"
   ]
  },
  {
   "cell_type": "code",
   "execution_count": 17,
   "metadata": {},
   "outputs": [],
   "source": [
    "deasy_api_key = \"Axl7qeOywDle9_OFfaSy_G4c2tX8iLH5688LA3rxIM0\" # You get in the Deasy Tokens Dashboard\n",
    "username = \"indegene_demo@deasylabs.com\" # Your Deasy username\n",
    "\n",
    "data_connector_profile_name = \"RAG metadata test\" # name of the vdb profile/datasource you want to use\n",
    "schema_name = \"Clinical Trial Docs\"\n",
    "\n",
    "client = Deasy(\n",
    "    x_user=username,\n",
    "    x_token=deasy_api_key\n",
    ")"
   ]
  },
  {
   "cell_type": "markdown",
   "metadata": {},
   "source": [
    "##### 2. Use Deasy SDK to get tag schemas "
   ]
  },
  {
   "cell_type": "code",
   "execution_count": 18,
   "metadata": {},
   "outputs": [],
   "source": [
    "tag_schemas = client.tags.list().tags\n",
    "tag_distributions_to_use = None"
   ]
  },
  {
   "cell_type": "markdown",
   "metadata": {},
   "source": [
    "##### 3. Pull tag value distributions (Optional)"
   ]
  },
  {
   "cell_type": "code",
   "execution_count": null,
   "metadata": {},
   "outputs": [],
   "source": [
    "schemas = client.schema.list().schemas\n",
    "\n",
    "schema_to_tags_and_distribution = client.metadata.get_distributions(\n",
    "    analysis_level=\"both\",\n",
    "    vdb_profile_name=data_connector_profile_name,\n",
    "    schema_names=[schema_name]\n",
    ").schema_names_to_count_distributions"
   ]
  },
  {
   "cell_type": "code",
   "execution_count": null,
   "metadata": {},
   "outputs": [],
   "source": [
    "tag_schemas = schema_to_tags_and_distribution[schema_name]\n",
    "tag_distribution_to_use = schema_to_tags_and_distribution[schema_name].count_distribution"
   ]
  },
  {
   "cell_type": "markdown",
   "metadata": {},
   "source": [
    "##### 4. Ask your question"
   ]
  },
  {
   "cell_type": "code",
   "execution_count": null,
   "metadata": {},
   "outputs": [],
   "source": [
    "question = \"How can I use Deasy's tag schemas and metadata filtering to improve the relevance of my retrieval results?\"\n",
    "\n",
    "\n",
    "response = client.deasy_select.query(\n",
    "    query=question,\n",
    "    vdb_profile_name=data_connector_profile_name,\n",
    "    tag_schemas=tag_schemas,\n",
    "    tag_distributions=tag_distribution_to_use,\n",
    ")"
   ]
  },
  {
   "cell_type": "markdown",
   "metadata": {},
   "source": [
    "##### 5. Get the files or conditions most relevant to your query"
   ]
  },
  {
   "cell_type": "code",
   "execution_count": null,
   "metadata": {},
   "outputs": [],
   "source": [
    "response"
   ]
  }
 ],
 "metadata": {
  "kernelspec": {
   "display_name": "cursor-deasie-VuXvTh7B-py3.12",
   "language": "python",
   "name": "python3"
  },
  "language_info": {
   "codemirror_mode": {
    "name": "ipython",
    "version": 3
   },
   "file_extension": ".py",
   "mimetype": "text/x-python",
   "name": "python",
   "nbconvert_exporter": "python",
   "pygments_lexer": "ipython3",
   "version": "3.12.8"
  }
 },
 "nbformat": 4,
 "nbformat_minor": 2
}
