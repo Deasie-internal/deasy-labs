{
 "cells": [
  {
   "cell_type": "code",
   "execution_count": 1,
   "metadata": {},
   "outputs": [
    {
     "name": "stdout",
     "output_type": "stream",
     "text": [
      "Requirement already satisfied: deasy-client in /Users/frankisaacson/code/deasy-python/.venv/lib/python3.12/site-packages (0.1.0a18)\n",
      "Requirement already satisfied: anyio<5,>=3.5.0 in /Users/frankisaacson/code/deasy-python/.venv/lib/python3.12/site-packages (from deasy-client) (4.9.0)\n",
      "Requirement already satisfied: distro<2,>=1.7.0 in /Users/frankisaacson/code/deasy-python/.venv/lib/python3.12/site-packages (from deasy-client) (1.9.0)\n",
      "Requirement already satisfied: httpx<1,>=0.23.0 in /Users/frankisaacson/code/deasy-python/.venv/lib/python3.12/site-packages (from deasy-client) (0.28.1)\n",
      "Requirement already satisfied: pydantic<3,>=1.9.0 in /Users/frankisaacson/code/deasy-python/.venv/lib/python3.12/site-packages (from deasy-client) (2.11.3)\n",
      "Requirement already satisfied: sniffio in /Users/frankisaacson/code/deasy-python/.venv/lib/python3.12/site-packages (from deasy-client) (1.3.1)\n",
      "Requirement already satisfied: typing-extensions<5,>=4.10 in /Users/frankisaacson/code/deasy-python/.venv/lib/python3.12/site-packages (from deasy-client) (4.13.2)\n",
      "Requirement already satisfied: idna>=2.8 in /Users/frankisaacson/code/deasy-python/.venv/lib/python3.12/site-packages (from anyio<5,>=3.5.0->deasy-client) (3.10)\n",
      "Requirement already satisfied: certifi in /Users/frankisaacson/code/deasy-python/.venv/lib/python3.12/site-packages (from httpx<1,>=0.23.0->deasy-client) (2025.1.31)\n",
      "Requirement already satisfied: httpcore==1.* in /Users/frankisaacson/code/deasy-python/.venv/lib/python3.12/site-packages (from httpx<1,>=0.23.0->deasy-client) (1.0.8)\n",
      "Requirement already satisfied: h11<0.15,>=0.13 in /Users/frankisaacson/code/deasy-python/.venv/lib/python3.12/site-packages (from httpcore==1.*->httpx<1,>=0.23.0->deasy-client) (0.14.0)\n",
      "Requirement already satisfied: annotated-types>=0.6.0 in /Users/frankisaacson/code/deasy-python/.venv/lib/python3.12/site-packages (from pydantic<3,>=1.9.0->deasy-client) (0.7.0)\n",
      "Requirement already satisfied: pydantic-core==2.33.1 in /Users/frankisaacson/code/deasy-python/.venv/lib/python3.12/site-packages (from pydantic<3,>=1.9.0->deasy-client) (2.33.1)\n",
      "Requirement already satisfied: typing-inspection>=0.4.0 in /Users/frankisaacson/code/deasy-python/.venv/lib/python3.12/site-packages (from pydantic<3,>=1.9.0->deasy-client) (0.4.0)\n",
      "\n",
      "\u001b[1m[\u001b[0m\u001b[34;49mnotice\u001b[0m\u001b[1;39;49m]\u001b[0m\u001b[39;49m A new release of pip is available: \u001b[0m\u001b[31;49m24.3.1\u001b[0m\u001b[39;49m -> \u001b[0m\u001b[32;49m25.0.1\u001b[0m\n",
      "\u001b[1m[\u001b[0m\u001b[34;49mnotice\u001b[0m\u001b[1;39;49m]\u001b[0m\u001b[39;49m To update, run: \u001b[0m\u001b[32;49mpip install --upgrade pip\u001b[0m\n"
     ]
    }
   ],
   "source": [
    "!pip install deasy-client"
   ]
  },
  {
   "cell_type": "code",
   "execution_count": 2,
   "metadata": {},
   "outputs": [
    {
     "data": {
      "text/plain": [
       "True"
      ]
     },
     "execution_count": 2,
     "metadata": {},
     "output_type": "execute_result"
    }
   ],
   "source": [
    "import os\n",
    "\n",
    "from dotenv import load_dotenv\n",
    "\n",
    "from deasy_client import Deasy\n",
    "\n",
    "load_dotenv()"
   ]
  },
  {
   "cell_type": "markdown",
   "metadata": {},
   "source": [
    "### Deasy Meta-Filter Demo\n"
   ]
  },
  {
   "cell_type": "markdown",
   "metadata": {},
   "source": [
    "##### 1. Define tags you want to filter on and instantiate the Deasy Client\n"
   ]
  },
  {
   "cell_type": "code",
   "execution_count": 3,
   "metadata": {},
   "outputs": [],
   "source": [
    "deasy_api_key = os.environ[\"DEASY_API_KEY\"]  # You get in the Deasy Tokens Dashboard\n",
    "username = \"frank@deasylabs.com\"  # Your Deasy username\n",
    "\n",
    "data_connector_profile_name = \"test-sharepoint\"  # name of the vdb profile/datasource you want to use\n",
    "schema_name = \"Count-Dist-Test\"\n",
    "\n",
    "client = Deasy(\n",
    "    x_user=username,\n",
    "    x_token=deasy_api_key,\n",
    "    base_url=os.environ[\"DEASY_BASE_URL\"]\n",
    ")"
   ]
  },
  {
   "cell_type": "markdown",
   "metadata": {},
   "source": [
    "##### 2. Use Deasy SDK to get tag schemas\n"
   ]
  },
  {
   "cell_type": "code",
   "execution_count": null,
   "metadata": {},
   "outputs": [
    {
     "ename": "TypeError",
     "evalue": "MetadataResource.get_distributions() got an unexpected keyword argument 'data_connector_name'",
     "output_type": "error",
     "traceback": [
      "\u001b[31m---------------------------------------------------------------------------\u001b[39m",
      "\u001b[31mTypeError\u001b[39m                                 Traceback (most recent call last)",
      "\u001b[36mCell\u001b[39m\u001b[36m \u001b[39m\u001b[32mIn[5]\u001b[39m\u001b[32m, line 2\u001b[39m\n\u001b[32m      1\u001b[39m all_tag_schemas = client.tags.list().tags\n\u001b[32m----> \u001b[39m\u001b[32m2\u001b[39m schemas_and_distributions = \u001b[43mclient\u001b[49m\u001b[43m.\u001b[49m\u001b[43mmetadata\u001b[49m\u001b[43m.\u001b[49m\u001b[43mget_distributions\u001b[49m\u001b[43m(\u001b[49m\n\u001b[32m      3\u001b[39m \u001b[43m    \u001b[49m\u001b[43manalysis_level\u001b[49m\u001b[43m=\u001b[49m\u001b[33;43m\"\u001b[39;49m\u001b[33;43mboth\u001b[39;49m\u001b[33;43m\"\u001b[39;49m\u001b[43m,\u001b[49m\n\u001b[32m      4\u001b[39m \u001b[43m    \u001b[49m\u001b[43mdata_connector_name\u001b[49m\u001b[43m=\u001b[49m\u001b[43mdata_connector_profile_name\u001b[49m\u001b[43m,\u001b[49m\n\u001b[32m      5\u001b[39m \u001b[43m    \u001b[49m\u001b[43mtag_names\u001b[49m\u001b[43m=\u001b[49m\u001b[43m[\u001b[49m\u001b[43mtag_schema\u001b[49m\u001b[43m.\u001b[49m\u001b[43mname\u001b[49m\u001b[43m \u001b[49m\u001b[38;5;28;43;01mfor\u001b[39;49;00m\u001b[43m \u001b[49m\u001b[43mtag_schema\u001b[49m\u001b[43m \u001b[49m\u001b[38;5;129;43;01min\u001b[39;49;00m\u001b[43m \u001b[49m\u001b[43mall_tag_schemas\u001b[49m\u001b[43m]\u001b[49m\u001b[43m,\u001b[49m\n\u001b[32m      6\u001b[39m \u001b[43m)\u001b[49m\n\u001b[32m      8\u001b[39m tag_schemas = schemas_and_distributions.tags_schemas\n\u001b[32m      9\u001b[39m tag_distributions = schemas_and_distributions.count_distribution\n",
      "\u001b[31mTypeError\u001b[39m: MetadataResource.get_distributions() got an unexpected keyword argument 'data_connector_name'"
     ]
    }
   ],
   "source": [
    "all_tag_schemas = client.tags.list().tags\n",
    "schemas_and_distributions = client.metadata.get_distributions(\n",
    "    analysis_level=\"both\",\n",
    "    data_connector_name=data_connector_profile_name,\n",
    "    tag_names=[tag_schema.name for tag_schema in all_tag_schemas],\n",
    ")\n",
    "\n",
    "tag_schemas = schemas_and_distributions.tags_schemas\n",
    "tag_distributions = schemas_and_distributions.count_distribution"
   ]
  },
  {
   "cell_type": "markdown",
   "metadata": {},
   "source": [
    "##### 3. Pull tag value distributions (Optional)\n"
   ]
  },
  {
   "cell_type": "code",
   "execution_count": 42,
   "metadata": {},
   "outputs": [],
   "source": [
    "schemas_and_distributions = client.metadata.get_distributions(\n",
    "    analysis_level=\"both\",\n",
    "    data_connector_name=data_connector_profile_name,\n",
    "    schema_name=schema_name,\n",
    ")\n",
    "\n",
    "tag_schemas = schemas_and_distributions.tags_schemas\n",
    "tag_distributions = schemas_and_distributions.count_distribution"
   ]
  },
  {
   "cell_type": "markdown",
   "metadata": {},
   "source": [
    "##### 4. Ask your question\n"
   ]
  },
  {
   "cell_type": "code",
   "execution_count": 40,
   "metadata": {},
   "outputs": [],
   "source": [
    "question = \"How can I use Deasy's tag schemas and metadata filtering to improve the relevance of my retrieval results?\"\n",
    "\n",
    "\n",
    "response = client.deasy_select.query(\n",
    "    query=question,\n",
    "    data_connector_name=data_connector_profile_name,\n",
    "    tag_schemas=tag_schemas,\n",
    "    tag_distributions=tag_distributions,\n",
    ")"
   ]
  },
  {
   "cell_type": "markdown",
   "metadata": {},
   "source": [
    "##### 5. Get the files or conditions most relevant to your query\n"
   ]
  },
  {
   "cell_type": "code",
   "execution_count": null,
   "metadata": {},
   "outputs": [],
   "source": [
    "response"
   ]
  }
 ],
 "metadata": {
  "kernelspec": {
   "display_name": ".venv",
   "language": "python",
   "name": "python3"
  },
  "language_info": {
   "codemirror_mode": {
    "name": "ipython",
    "version": 3
   },
   "file_extension": ".py",
   "mimetype": "text/x-python",
   "name": "python",
   "nbconvert_exporter": "python",
   "pygments_lexer": "ipython3",
   "version": "3.12.8"
  }
 },
 "nbformat": 4,
 "nbformat_minor": 2
}
